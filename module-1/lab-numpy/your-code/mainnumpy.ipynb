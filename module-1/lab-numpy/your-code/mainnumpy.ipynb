{
  "nbformat": 4,
  "nbformat_minor": 0,
  "metadata": {
    "colab": {
      "name": "mainnumpy.ipynb",
      "provenance": [],
      "collapsed_sections": []
    },
    "kernelspec": {
      "name": "python3",
      "display_name": "Python 3"
    }
  },
  "cells": [
    {
      "cell_type": "code",
      "metadata": {
        "id": "ZQrJ_15QBagk",
        "colab_type": "code",
        "colab": {}
      },
      "source": [
        "#1. Import the NUMPY package under the name np.\n",
        "import numpy as np"
      ],
      "execution_count": 0,
      "outputs": []
    },
    {
      "cell_type": "code",
      "metadata": {
        "id": "NdUUgk16BiHu",
        "colab_type": "code",
        "outputId": "d0240aba-3e54-4351-bc26-35f39df46be3",
        "colab": {
          "base_uri": "https://localhost:8080/",
          "height": 493
        }
      },
      "source": [
        "#2. Print the NUMPY version and the configuration.\n",
        "print(np.version.version)\n",
        "print(np.show_config())"
      ],
      "execution_count": 18,
      "outputs": [
        {
          "output_type": "stream",
          "text": [
            "1.18.2\n",
            "blas_mkl_info:\n",
            "  NOT AVAILABLE\n",
            "blis_info:\n",
            "  NOT AVAILABLE\n",
            "openblas_info:\n",
            "    libraries = ['openblas', 'openblas']\n",
            "    library_dirs = ['/usr/local/lib']\n",
            "    language = c\n",
            "    define_macros = [('HAVE_CBLAS', None)]\n",
            "blas_opt_info:\n",
            "    libraries = ['openblas', 'openblas']\n",
            "    library_dirs = ['/usr/local/lib']\n",
            "    language = c\n",
            "    define_macros = [('HAVE_CBLAS', None)]\n",
            "lapack_mkl_info:\n",
            "  NOT AVAILABLE\n",
            "openblas_lapack_info:\n",
            "    libraries = ['openblas', 'openblas']\n",
            "    library_dirs = ['/usr/local/lib']\n",
            "    language = c\n",
            "    define_macros = [('HAVE_CBLAS', None)]\n",
            "lapack_opt_info:\n",
            "    libraries = ['openblas', 'openblas']\n",
            "    library_dirs = ['/usr/local/lib']\n",
            "    language = c\n",
            "    define_macros = [('HAVE_CBLAS', None)]\n",
            "None\n"
          ],
          "name": "stdout"
        }
      ]
    },
    {
      "cell_type": "code",
      "metadata": {
        "id": "jVNqgwppCCBJ",
        "colab_type": "code",
        "colab": {}
      },
      "source": [
        "#3. Generate a 2x3x5 3-dimensional array with random values. Assign the array to variable \"a\"\n",
        "# Challenge: there are at least three easy ways that use numpy to generate random arrays. How many ways can you find?\n",
        "a=np.random.random((2,3,5))\n"
      ],
      "execution_count": 0,
      "outputs": []
    },
    {
      "cell_type": "code",
      "metadata": {
        "id": "ywpjeerACbwg",
        "colab_type": "code",
        "outputId": "33285acb-22fd-4a67-f113-8f26c1d5f070",
        "colab": {
          "base_uri": "https://localhost:8080/",
          "height": 136
        }
      },
      "source": [
        "#4. Print a.\n",
        "print(a)"
      ],
      "execution_count": 20,
      "outputs": [
        {
          "output_type": "stream",
          "text": [
            "[[[0.37735949 0.44642841 0.93645346 0.43144129 0.07159207]\n",
            "  [0.50553233 0.55539506 0.33926252 0.71097167 0.94654418]\n",
            "  [0.59453128 0.79222924 0.55001705 0.50612262 0.86081971]]\n",
            "\n",
            " [[0.82645345 0.2917011  0.48278816 0.1645855  0.05495623]\n",
            "  [0.5004374  0.61629417 0.04170947 0.34778184 0.52664053]\n",
            "  [0.86920109 0.97206664 0.63891696 0.32880747 0.99946494]]]\n"
          ],
          "name": "stdout"
        }
      ]
    },
    {
      "cell_type": "code",
      "metadata": {
        "id": "eOiSp1h2CiOe",
        "colab_type": "code",
        "colab": {}
      },
      "source": [
        "#5. Create a 5x2x3 3-dimensional array with all values equaling 1.\n",
        "#Assign the array to variable \"b\"\n",
        "b=np.full((5,3,2), 1)"
      ],
      "execution_count": 0,
      "outputs": []
    },
    {
      "cell_type": "code",
      "metadata": {
        "id": "UXQPnqz8C5EG",
        "colab_type": "code",
        "outputId": "79806df1-7a2e-4403-da4a-5a337febdd6a",
        "colab": {
          "base_uri": "https://localhost:8080/",
          "height": 255
        }
      },
      "source": [
        "#6. Print b.\n",
        "print(b)"
      ],
      "execution_count": 22,
      "outputs": [
        {
          "output_type": "stream",
          "text": [
            "[[[1 1 1]\n",
            "  [1 1 1]]\n",
            "\n",
            " [[1 1 1]\n",
            "  [1 1 1]]\n",
            "\n",
            " [[1 1 1]\n",
            "  [1 1 1]]\n",
            "\n",
            " [[1 1 1]\n",
            "  [1 1 1]]\n",
            "\n",
            " [[1 1 1]\n",
            "  [1 1 1]]]\n"
          ],
          "name": "stdout"
        }
      ]
    },
    {
      "cell_type": "code",
      "metadata": {
        "id": "MdHFWkejC--N",
        "colab_type": "code",
        "outputId": "89d6e2f2-0d6c-468b-dd30-1a11cc93daa6",
        "colab": {
          "base_uri": "https://localhost:8080/",
          "height": 34
        }
      },
      "source": [
        "#7. Do a and b have the same size? How do you prove that in Python code?\n",
        "a.size==b.size"
      ],
      "execution_count": 24,
      "outputs": [
        {
          "output_type": "execute_result",
          "data": {
            "text/plain": [
              "True"
            ]
          },
          "metadata": {
            "tags": []
          },
          "execution_count": 24
        }
      ]
    },
    {
      "cell_type": "code",
      "metadata": {
        "id": "7B5zKg9-EIEA",
        "colab_type": "code",
        "colab": {
          "base_uri": "https://localhost:8080/",
          "height": 164
        },
        "outputId": "66e6582e-af41-40f8-84df-a24733acf112"
      },
      "source": [
        "#8. Are you able to add a and b? Why or why not?\n",
        "#No, porque sus dimensiones no lo permiten. uno es de (2,3,5) y el otro es (5,3,2)\n",
        "a+b"
      ],
      "execution_count": 25,
      "outputs": [
        {
          "output_type": "error",
          "ename": "ValueError",
          "evalue": "ignored",
          "traceback": [
            "\u001b[0;31m---------------------------------------------------------------------------\u001b[0m",
            "\u001b[0;31mValueError\u001b[0m                                Traceback (most recent call last)",
            "\u001b[0;32m<ipython-input-25-ca730b97bf8a>\u001b[0m in \u001b[0;36m<module>\u001b[0;34m()\u001b[0m\n\u001b[0;32m----> 1\u001b[0;31m \u001b[0ma\u001b[0m\u001b[0;34m+\u001b[0m\u001b[0mb\u001b[0m\u001b[0;34m\u001b[0m\u001b[0;34m\u001b[0m\u001b[0m\n\u001b[0m",
            "\u001b[0;31mValueError\u001b[0m: operands could not be broadcast together with shapes (2,3,5) (5,2,3) "
          ]
        }
      ]
    },
    {
      "cell_type": "code",
      "metadata": {
        "id": "MiUof6GlERDd",
        "colab_type": "code",
        "colab": {
          "base_uri": "https://localhost:8080/",
          "height": 136
        },
        "outputId": "8645cca2-8f0f-479a-c376-d224b8a193c1"
      },
      "source": [
        "#9. Transpose b so that it has the same structure of a (i.e. become a 2x3x5 array). Assign the transposed array to varialbe \"c\".\n",
        "c=b.transpose()\n",
        "print(c)"
      ],
      "execution_count": 29,
      "outputs": [
        {
          "output_type": "stream",
          "text": [
            "[[[1 1 1 1 1]\n",
            "  [1 1 1 1 1]\n",
            "  [1 1 1 1 1]]\n",
            "\n",
            " [[1 1 1 1 1]\n",
            "  [1 1 1 1 1]\n",
            "  [1 1 1 1 1]]]\n"
          ],
          "name": "stdout"
        }
      ]
    },
    {
      "cell_type": "code",
      "metadata": {
        "id": "LLDpL_4hEo2-",
        "colab_type": "code",
        "colab": {
          "base_uri": "https://localhost:8080/",
          "height": 136
        },
        "outputId": "074f41ba-dfde-4a69-9640-15b27c8317dd"
      },
      "source": [
        "#10. Try to add a and c. Now it should work. Assign the sum to varialbe \"d\". But why does it work now?\n",
        "#Because now their dimensions match\n",
        "d=a+c\n",
        "print(d)"
      ],
      "execution_count": 30,
      "outputs": [
        {
          "output_type": "stream",
          "text": [
            "[[[1.37735949 1.44642841 1.93645346 1.43144129 1.07159207]\n",
            "  [1.50553233 1.55539506 1.33926252 1.71097167 1.94654418]\n",
            "  [1.59453128 1.79222924 1.55001705 1.50612262 1.86081971]]\n",
            "\n",
            " [[1.82645345 1.2917011  1.48278816 1.1645855  1.05495623]\n",
            "  [1.5004374  1.61629417 1.04170947 1.34778184 1.52664053]\n",
            "  [1.86920109 1.97206664 1.63891696 1.32880747 1.99946494]]]\n"
          ],
          "name": "stdout"
        }
      ]
    },
    {
      "cell_type": "code",
      "metadata": {
        "id": "JExNt2sjFLwz",
        "colab_type": "code",
        "colab": {
          "base_uri": "https://localhost:8080/",
          "height": 255
        },
        "outputId": "5f0772ca-9243-46d9-e82e-301b55b08ebf"
      },
      "source": [
        "#11. Print a and d. Notice the difference and relation of the two array in terms of the values? Explain.\n",
        "#Cada elemento de a se sumó a un elemento de c(que en su origen fue b) por lo que el resultado es igual \n",
        "#a todos los valores de a+1\n",
        "print(a)\n",
        "print(d)"
      ],
      "execution_count": 31,
      "outputs": [
        {
          "output_type": "stream",
          "text": [
            "[[[0.37735949 0.44642841 0.93645346 0.43144129 0.07159207]\n",
            "  [0.50553233 0.55539506 0.33926252 0.71097167 0.94654418]\n",
            "  [0.59453128 0.79222924 0.55001705 0.50612262 0.86081971]]\n",
            "\n",
            " [[0.82645345 0.2917011  0.48278816 0.1645855  0.05495623]\n",
            "  [0.5004374  0.61629417 0.04170947 0.34778184 0.52664053]\n",
            "  [0.86920109 0.97206664 0.63891696 0.32880747 0.99946494]]]\n",
            "[[[1.37735949 1.44642841 1.93645346 1.43144129 1.07159207]\n",
            "  [1.50553233 1.55539506 1.33926252 1.71097167 1.94654418]\n",
            "  [1.59453128 1.79222924 1.55001705 1.50612262 1.86081971]]\n",
            "\n",
            " [[1.82645345 1.2917011  1.48278816 1.1645855  1.05495623]\n",
            "  [1.5004374  1.61629417 1.04170947 1.34778184 1.52664053]\n",
            "  [1.86920109 1.97206664 1.63891696 1.32880747 1.99946494]]]\n"
          ],
          "name": "stdout"
        }
      ]
    },
    {
      "cell_type": "code",
      "metadata": {
        "id": "sUtp-4g4FtI6",
        "colab_type": "code",
        "colab": {
          "base_uri": "https://localhost:8080/",
          "height": 136
        },
        "outputId": "3f94cf42-d981-41ab-f93b-d9ef4317d1d8"
      },
      "source": [
        "#12. Multiply a and c. Assign the result to e.\n",
        "e=np.multiply(a,c)\n",
        "print(e)"
      ],
      "execution_count": 33,
      "outputs": [
        {
          "output_type": "stream",
          "text": [
            "[[[0.37735949 0.44642841 0.93645346 0.43144129 0.07159207]\n",
            "  [0.50553233 0.55539506 0.33926252 0.71097167 0.94654418]\n",
            "  [0.59453128 0.79222924 0.55001705 0.50612262 0.86081971]]\n",
            "\n",
            " [[0.82645345 0.2917011  0.48278816 0.1645855  0.05495623]\n",
            "  [0.5004374  0.61629417 0.04170947 0.34778184 0.52664053]\n",
            "  [0.86920109 0.97206664 0.63891696 0.32880747 0.99946494]]]\n"
          ],
          "name": "stdout"
        }
      ]
    },
    {
      "cell_type": "code",
      "metadata": {
        "id": "aobxHkVlF98V",
        "colab_type": "code",
        "colab": {
          "base_uri": "https://localhost:8080/",
          "height": 136
        },
        "outputId": "e5ce47ac-39bd-4820-fd1f-968c92c20e18"
      },
      "source": [
        "#13. Does e equal to a? Why or why not?\n",
        "#Sì es igual, porque c contiene únicamente 1 y se está multiplicando por a\n",
        "print(e==a)"
      ],
      "execution_count": 34,
      "outputs": [
        {
          "output_type": "stream",
          "text": [
            "[[[ True  True  True  True  True]\n",
            "  [ True  True  True  True  True]\n",
            "  [ True  True  True  True  True]]\n",
            "\n",
            " [[ True  True  True  True  True]\n",
            "  [ True  True  True  True  True]\n",
            "  [ True  True  True  True  True]]]\n"
          ],
          "name": "stdout"
        }
      ]
    },
    {
      "cell_type": "code",
      "metadata": {
        "id": "8yFHgbWpGQrh",
        "colab_type": "code",
        "colab": {
          "base_uri": "https://localhost:8080/",
          "height": 68
        },
        "outputId": "1541b0b3-5cb0-466d-a3b5-8bc65b090a35"
      },
      "source": [
        "#14. Identify the max, min, and mean values in d. Assign those values to variables \"d_max\", \"d_min\", and \"d_mean\"\n",
        "d_max=d.max()\n",
        "d_min=d.min()\n",
        "d_mean=np.mean(d)\n",
        "print(d_max)\n",
        "print(d_min)\n",
        "print(d_mean)"
      ],
      "execution_count": 35,
      "outputs": [
        {
          "output_type": "stream",
          "text": [
            "1.999464942462808\n",
            "1.0417094749399518\n",
            "1.5428835115355048\n"
          ],
          "name": "stdout"
        }
      ]
    },
    {
      "cell_type": "code",
      "metadata": {
        "id": "aqXQi_NiHZkQ",
        "colab_type": "code",
        "colab": {
          "base_uri": "https://localhost:8080/",
          "height": 136
        },
        "outputId": "d405da87-0d0f-432f-8015-cc48eb65c142"
      },
      "source": [
        "#15. Now we want to label the values in d. First create an empty array \"f\" with the same shape (i.e. 2x3x5) as d using `np.empty`.\n",
        "f=np.empty([2,3,5])\n",
        "print(f)"
      ],
      "execution_count": 39,
      "outputs": [
        {
          "output_type": "stream",
          "text": [
            "[[[0.37735949 0.44642841 0.93645346 0.43144129 0.07159207]\n",
            "  [0.50553233 0.55539506 0.33926252 0.71097167 0.94654418]\n",
            "  [0.59453128 0.79222924 0.55001705 0.50612262 0.86081971]]\n",
            "\n",
            " [[0.82645345 0.2917011  0.48278816 0.1645855  0.05495623]\n",
            "  [0.5004374  0.61629417 0.04170947 0.34778184 0.52664053]\n",
            "  [0.86920109 0.97206664 0.63891696 0.32880747 0.99946494]]]\n"
          ],
          "name": "stdout"
        }
      ]
    },
    {
      "cell_type": "markdown",
      "metadata": {
        "id": "t22Jk_BXJTi1",
        "colab_type": "text"
      },
      "source": [
        ""
      ]
    },
    {
      "cell_type": "code",
      "metadata": {
        "id": "nKOsez1MIvpI",
        "colab_type": "code",
        "colab": {
          "base_uri": "https://localhost:8080/",
          "height": 255
        },
        "outputId": "66d4df70-cf8c-47cd-ba58-5dd1e2fdca8f"
      },
      "source": [
        "for i in range(2):\n",
        "  for j in range(3):\n",
        "    for k in range(5):\n",
        "      #print(d[i,j,k])\n",
        "      if d[i,j,k] > d_min and d[i,j,k] < d_mean:\n",
        "        f[i,j,k]=25\n",
        "      elif d[i,j,k] > d_mean and d[i,j,k] < d_max:\n",
        "        f[i,j,k]=75\n",
        "      elif d[i,j,k]==d_min:\n",
        "        f[i,j,k]=0\n",
        "      elif d[i,j,k]==d_max:\n",
        "        f[i,j,k]=100\n",
        "      elif d[i,j,k]==d_mean:\n",
        "        f[i,j,k]=50\n",
        "\n",
        "print(d)\n",
        "print(f.astype(int))"
      ],
      "execution_count": 62,
      "outputs": [
        {
          "output_type": "stream",
          "text": [
            "[[[1.37735949 1.44642841 1.93645346 1.43144129 1.07159207]\n",
            "  [1.50553233 1.55539506 1.33926252 1.71097167 1.94654418]\n",
            "  [1.59453128 1.79222924 1.55001705 1.50612262 1.86081971]]\n",
            "\n",
            " [[1.82645345 1.2917011  1.48278816 1.1645855  1.05495623]\n",
            "  [1.5004374  1.61629417 1.04170947 1.34778184 1.52664053]\n",
            "  [1.86920109 1.97206664 1.63891696 1.32880747 1.99946494]]]\n",
            "[[[ 25  25  75  25  25]\n",
            "  [ 25  75  25  75  75]\n",
            "  [ 75  75  75  25  75]]\n",
            "\n",
            " [[ 75  25  25  25  25]\n",
            "  [ 25  75   0  25  25]\n",
            "  [ 75  75  75  25 100]]]\n"
          ],
          "name": "stdout"
        }
      ]
    },
    {
      "cell_type": "code",
      "metadata": {
        "id": "7pCBi4ZlI8h8",
        "colab_type": "code",
        "colab": {
          "base_uri": "https://localhost:8080/",
          "height": 136
        },
        "outputId": "7c40d538-1410-429c-c6fb-b661f20352b0"
      },
      "source": [
        "faux=f.tolist()\n",
        "\n",
        "for i in range(2):\n",
        "  for j in range(3):\n",
        "    for k in range(5):\n",
        "      #print(d[i,j,k])\n",
        "      if d[i,j,k] > d_min and d[i,j,k] < d_mean:\n",
        "        faux[i][j][k]='B'\n",
        "      elif d[i,j,k] > d_mean and d[i,j,k] < d_max:\n",
        "        faux[i][j][k]='D'\n",
        "      elif d[i,j,k]==d_min:\n",
        "        faux[i][j][k]='A'\n",
        "      elif d[i,j,k]==d_max:\n",
        "        faux[i][j][k]='E'\n",
        "      elif d[i,j,k]==d_mean:\n",
        "        faux[i][j][k]='C'\n",
        "\n",
        "res=np.array(faux)\n",
        "print(res)\n"
      ],
      "execution_count": 63,
      "outputs": [
        {
          "output_type": "stream",
          "text": [
            "[[['B' 'B' 'D' 'B' 'B']\n",
            "  ['B' 'D' 'B' 'D' 'D']\n",
            "  ['D' 'D' 'D' 'B' 'D']]\n",
            "\n",
            " [['D' 'B' 'B' 'B' 'B']\n",
            "  ['B' 'D' 'A' 'B' 'B']\n",
            "  ['D' 'D' 'D' 'B' 'E']]]\n"
          ],
          "name": "stdout"
        }
      ]
    }
  ]
}