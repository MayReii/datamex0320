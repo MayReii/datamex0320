{
 "cells": [
  {
   "cell_type": "code",
   "execution_count": 1,
   "metadata": {},
   "outputs": [],
   "source": [
    "import pandas as pd\n",
    "import numpy as np"
   ]
  },
  {
   "cell_type": "code",
   "execution_count": 71,
   "metadata": {},
   "outputs": [],
   "source": [
    "sharks=pd.read_csv('Sharks2.csv')"
   ]
  },
  {
   "cell_type": "code",
   "execution_count": 72,
   "metadata": {},
   "outputs": [
    {
     "data": {
      "text/plain": [
       "Index(['Unnamed: 0', 'Case Number', 'Date', 'Year', 'Type', 'Country', 'Area',\n",
       "       'Location', 'Activity', 'Name', 'Sex', 'Age', 'Injury', 'Fatal (Y/N)',\n",
       "       'Time', 'Species', 'Investigator or Source', 'pdf', 'href formula',\n",
       "       'href', 'Case Number.1', 'Case Number.2', 'original order', 'Extra1',\n",
       "       'Extra2'],\n",
       "      dtype='object')"
      ]
     },
     "execution_count": 72,
     "metadata": {},
     "output_type": "execute_result"
    }
   ],
   "source": [
    "sharks2=sharks.copy()\n",
    "sharks2.columns"
   ]
  },
  {
   "cell_type": "code",
   "execution_count": 73,
   "metadata": {},
   "outputs": [],
   "source": [
    "sharks2['Investigator or Source'] = sharks2['Investigator or Source'].apply(lambda x: x.split(',')[0])"
   ]
  },
  {
   "cell_type": "code",
   "execution_count": 74,
   "metadata": {},
   "outputs": [
    {
     "data": {
      "text/plain": [
       "Type              19425\n",
       "Country           19471\n",
       "Area              19876\n",
       "Location          19961\n",
       "Activity          19965\n",
       "Name              19631\n",
       "Sex               19986\n",
       "Age               22252\n",
       "Time              22775\n",
       "original order    19414\n",
       "dtype: int64"
      ]
     },
     "execution_count": 74,
     "metadata": {},
     "output_type": "execute_result"
    }
   ],
   "source": [
    "col_nulos=sharks2.isna().sum()  # columnas con nulos\n",
    "\n",
    "col_nulos[col_nulos>0]"
   ]
  },
  {
   "cell_type": "code",
   "execution_count": 75,
   "metadata": {},
   "outputs": [
    {
     "data": {
      "text/plain": [
       "array(['57', '11', '48', nan, '18', '52', '15', '12', '32', '10', '21',\n",
       "       '34', '30', '60', '33', '29', '54', '41', '37', '56', '19', '25',\n",
       "       '69', '38', '55', '35', '46', '45', '14', '40s', '28', '20', '24',\n",
       "       '26', '49', '22', '7', '31', '17', '40', '13', '42', '3', '8',\n",
       "       '50', '16', '82', '73', '20s', '68', '51', '39', '58', 'Teen',\n",
       "       '47', '61', '65', '36', '66', '43', '60s', '9', '72', '59', '6',\n",
       "       '27', '64', '23', '71', '44', '62', '63', '70', '18 months', '53',\n",
       "       '30s', '50s', 'teen', '77', '74', '28 & 26', '5', '86', '18 or 20',\n",
       "       '12 or 13', '46 & 34', '28, 23 & 30', 'Teens', '36 & 26',\n",
       "       '8 or 10', '84', '\\xa0 ', ' ', '30 or 36', '6½', '21 & ?', '75',\n",
       "       '33 or 37', 'mid-30s', '23 & 20', ' 30', '7      &    31', ' 28',\n",
       "       '20?', \"60's\", '32 & 30', '16 to 18', '87', '67', 'Elderly',\n",
       "       'mid-20s', 'Ca. 33', '74 ', '45 ', '21 or 26', '20 ', '>50',\n",
       "       '18 to 22', 'adult', '9 & 12', '? & 19', '9 months', '25 to 35',\n",
       "       '23 & 26', '1', '(adult)', '33 & 37', '25 or 28',\n",
       "       '37, 67, 35, 27,  ? & 27', '21, 34,24 & 35', '30 & 32', '50 & 30',\n",
       "       '17 & 35', 'X', '\"middle-age\"', '13 or 18', '34 & 19', '33 & 26',\n",
       "       '2 to 3 months', 'MAKE LINE GREEN', ' 43', '81', '\"young\"',\n",
       "       '7 or 8', '78', '17 & 16', 'F', 'Both 11', '9 or 10', 'young',\n",
       "       '36 & 23', '  ', 'A.M.', '?    &   14', '10 or 12', '31 or 33',\n",
       "       '2½', '13 or 14'], dtype=object)"
      ]
     },
     "execution_count": 75,
     "metadata": {},
     "output_type": "execute_result"
    }
   ],
   "source": [
    "sharks2['Age'].unique()"
   ]
  },
  {
   "cell_type": "code",
   "execution_count": 76,
   "metadata": {},
   "outputs": [],
   "source": [
    "sharks2['Age'] = np.select([sharks2['Age'].str.contains(\"[a-z]\")==True], ['No age available'],sharks2['Age'])"
   ]
  },
  {
   "cell_type": "code",
   "execution_count": 77,
   "metadata": {},
   "outputs": [],
   "source": [
    "sharks2['Age'] = np.select([sharks2['Age'].str.contains(\"[A-Z]\")==True], ['No age available'],sharks2['Age'])"
   ]
  },
  {
   "cell_type": "code",
   "execution_count": 78,
   "metadata": {},
   "outputs": [],
   "source": [
    "sharks2['Age']= sharks2['Age'].str.replace(\"?\", \"Unknown\")\n"
   ]
  },
  {
   "cell_type": "code",
   "execution_count": 79,
   "metadata": {},
   "outputs": [],
   "source": [
    "sharks2['Age'] = np.select([sharks2['Age'].str.contains(\"20U\")==True], ['No age available'],sharks2['Age'])"
   ]
  },
  {
   "cell_type": "code",
   "execution_count": 80,
   "metadata": {},
   "outputs": [],
   "source": [
    "sharks2['Age']=sharks2['Age'].fillna('No age available')"
   ]
  },
  {
   "cell_type": "code",
   "execution_count": 81,
   "metadata": {},
   "outputs": [
    {
     "data": {
      "text/plain": [
       "array(['57', '11', '48', 'No age available', '18', '52', '15', '12', '32',\n",
       "       '10', '21', '34', '30', '60', '33', '29', '54', '41', '37', '56',\n",
       "       '19', '25', '69', '38', '55', '35', '46', '45', '14', '28', '20',\n",
       "       '24', '26', '49', '22', '7', '31', '17', '40', '13', '42', '3',\n",
       "       '8', '50', '16', '82', '73', '68', '51', '39', '58', '47', '61',\n",
       "       '65', '36', '66', '43', '9', '72', '59', '6', '27', '64', '23',\n",
       "       '71', '44', '62', '63', '70', '53', '77', '74', '28 & 26', '5',\n",
       "       '86', '46 & 34', '28, 23 & 30', '36 & 26', '84', '\\xa0 ', ' ',\n",
       "       '6½', '21 & Unknown', '75', '23 & 20', ' 30', '7      &    31',\n",
       "       ' 28', '32 & 30', '87', '67', '74 ', '45 ', '20 ', '>50', '9 & 12',\n",
       "       'Unknown & 19', '23 & 26', '1', '33 & 37',\n",
       "       '37, 67, 35, 27,  Unknown & 27', '21, 34,24 & 35', '30 & 32',\n",
       "       '50 & 30', '17 & 35', '34 & 19', '33 & 26', ' 43', '81', '78',\n",
       "       '17 & 16', '36 & 23', '  ', 'Unknown    &   14', '2½'],\n",
       "      dtype=object)"
      ]
     },
     "execution_count": 81,
     "metadata": {},
     "output_type": "execute_result"
    }
   ],
   "source": [
    "sharks2['Age'].unique()"
   ]
  },
  {
   "cell_type": "code",
   "execution_count": 82,
   "metadata": {},
   "outputs": [],
   "source": [
    "import re \n",
    "sharks2['Age']=sharks2['Age'].str.replace('\\s\\s+', ' ', regex=True)"
   ]
  },
  {
   "cell_type": "code",
   "execution_count": 83,
   "metadata": {},
   "outputs": [
    {
     "data": {
      "text/plain": [
       "array(['57', '11', '48', 'No age available', '18', '52', '15', '12', '32',\n",
       "       '10', '21', '34', '30', '60', '33', '29', '54', '41', '37', '56',\n",
       "       '19', '25', '69', '38', '55', '35', '46', '45', '14', '28', '20',\n",
       "       '24', '26', '49', '22', '7', '31', '17', '40', '13', '42', '3',\n",
       "       '8', '50', '16', '82', '73', '68', '51', '39', '58', '47', '61',\n",
       "       '65', '36', '66', '43', '9', '72', '59', '6', '27', '64', '23',\n",
       "       '71', '44', '62', '63', '70', '53', '77', '74', '28 & 26', '5',\n",
       "       '86', '46 & 34', '28, 23 & 30', '36 & 26', '84', ' ', '6½',\n",
       "       '21 & Unknown', '75', '23 & 20', ' 30', '7 & 31', ' 28', '32 & 30',\n",
       "       '87', '67', '74 ', '45 ', '20 ', '>50', '9 & 12', 'Unknown & 19',\n",
       "       '23 & 26', '1', '33 & 37', '37, 67, 35, 27, Unknown & 27',\n",
       "       '21, 34,24 & 35', '30 & 32', '50 & 30', '17 & 35', '34 & 19',\n",
       "       '33 & 26', ' 43', '81', '78', '17 & 16', '36 & 23', 'Unknown & 14',\n",
       "       '2½'], dtype=object)"
      ]
     },
     "execution_count": 83,
     "metadata": {},
     "output_type": "execute_result"
    }
   ],
   "source": [
    "sharks2['Age'].unique() #Hasta aquí ya está arreglada la edad "
   ]
  },
  {
   "cell_type": "code",
   "execution_count": 84,
   "metadata": {},
   "outputs": [
    {
     "data": {
      "text/plain": [
       "Type              19425\n",
       "Country           19471\n",
       "Area              19876\n",
       "Location          19961\n",
       "Activity          19965\n",
       "Name              19631\n",
       "Sex               19986\n",
       "Time              22775\n",
       "original order    19414\n",
       "dtype: int64"
      ]
     },
     "execution_count": 84,
     "metadata": {},
     "output_type": "execute_result"
    }
   ],
   "source": [
    "col_nulos=sharks2.isna().sum()  # columnas con nulos\n",
    "\n",
    "col_nulos[col_nulos>0]\n"
   ]
  },
  {
   "cell_type": "code",
   "execution_count": 85,
   "metadata": {},
   "outputs": [],
   "source": [
    "sharks2['Time'] = np.select([sharks2['Time'].str.contains(\"[0-9]\")==False], ['Uncertain'],sharks2['Time'])\n",
    "sharks2['Time']=sharks2['Time'].fillna('Uncertain')"
   ]
  },
  {
   "cell_type": "code",
   "execution_count": 90,
   "metadata": {},
   "outputs": [],
   "source": [
    "sharks2['Time'] = np.select([sharks2['Time'].str.contains(\"[A-Z]\")==True], ['Uncertain'],sharks2['Time'])\n",
    "sharks2['Time'] = np.select([sharks2['Time'].str.contains(\"-\")==True], ['Uncertain'],sharks2['Time'])\n",
    "sharks2['Time'] = np.select([sharks2['Time'].str.contains(\"/\")==True], ['Uncertain'],sharks2['Time'])\n",
    "sharks2['Time'] = np.select([sharks2['Time'].str.contains(\">\")==True], ['Uncertain'],sharks2['Time'])\n",
    "sharks2['Time'] = np.select([sharks2['Time'].str.contains(\"after\")==True], ['Uncertain'],sharks2['Time'])\n",
    "sharks2['Time'] = np.select([sharks2['Time'].str.contains(\"before\")==True], ['Uncertain'],sharks2['Time'])"
   ]
  },
  {
   "cell_type": "code",
   "execution_count": 95,
   "metadata": {},
   "outputs": [
    {
     "data": {
      "text/plain": [
       "array(['18h00', 'Uncertain', '07h45', '17h00', '14h00', '15h00', '08h15',\n",
       "       '11h00', '10h30', '10h40', '16h50', '07h00', '09h30', '21h50',\n",
       "       '09h40', '08h00', '17h35', '15h30', '07h30', '16h00', '15h01',\n",
       "       '12h00', '13h45', '23h30', '09h00', '14h30', '18h30', '12h30',\n",
       "       '16h30', '18h45', '06h00', '10h00', '10h44', '13h19', '13h30',\n",
       "       '10h45', '11h20', '11h45', '19h30', '08h30', '15h45', '17h34',\n",
       "       '17h10', '11h15', '08h50', '17h45', '13h00', '10h20', '13h20',\n",
       "       '02h00', '09h50', '11h30', '17h30', '9h00', '10h43', '15h15',\n",
       "       '15h40', '19h05', '1300', '22h00', '16h20', '14h34', '15h25',\n",
       "       '14h55', '17h46', '15h49', '19h00', '10h15', '18h15', '04h00',\n",
       "       '14h50', '13h50', '19h20', '10h25', '16h45', '15h52', '06h15',\n",
       "       '14h40', '19h45', '10h10', '08h45', '12h10', '18h05', '11h41',\n",
       "       '12h25', '17h51', '16h12', '12h45', '10h50', '14h15', '09h45',\n",
       "       '06h45', '05h00', '03h30', '06h30', '17h20', '20h00', '16h40',\n",
       "       '16h18', '11h10', '17h50', '17h01', '09h57', '08h20', '17h58',\n",
       "       '20h30', '15h19', '10h55', '15h55', '23h00', '12h40', '13h55',\n",
       "       '16h05', '14h10', '15h20', '12h50', '14h45', '13h40', '13h24',\n",
       "       '0830', '11h40', '08h10', '15h56', '14h20', '07h56', '1600',\n",
       "       '17h17', '16h35', '09h05', '07h15', '07h20', '19h28', '12h38',\n",
       "       '05h50', '15h50', '11h05', '05h45', '13h25', '12h20', '13h26',\n",
       "       '09h11', '12h15', '13h15', '18h20', '15h35', '13h51', '08h05',\n",
       "       '19h15', '10h35', '15h44', '21h00', '15j45', '09h35', '10h27',\n",
       "       '10h16', '0500', '09h20', '12h05', '14h21', '18h50', '15h53',\n",
       "       '11h115', '13h42', '20h15', '12h39', '07h05', '13h05', '11h50',\n",
       "       '17h55', '22h30', '17h15', '16h10', '11h30 ', '06h10', '16h15',\n",
       "       '07h08', '03h00', '12h02', '12h55', '16h14', '17h11', '00h30',\n",
       "       '14h37', '10h07', '13h53', '11h55', '13h23', '02h30', '08h40',\n",
       "       '11h56', '14h35', '07h50', '14h25', '13h345', '06h47', '18h40',\n",
       "       '13h14', '13h06', '12h34', '11h53', '8h04 ', '12h46', '12h48',\n",
       "       '17h42', '12h35', '11h57', '17h40', '11h25', '18h25', '10h28',\n",
       "       '09h15', '14h16', '09h55', '15h05', '09h30 ', '11h48', '07h19',\n",
       "       '13h37', '11h06', '18h30?', '11h58', '11h51', '18h12', '07h10',\n",
       "       '07h40', '12h33', '15h06', '12h54', '16h55', '05h40', '21h30',\n",
       "       '08h57', '06j00', '08h35', '10h22', '02h45', '18h10', '08h55',\n",
       "       ' 14h00', '06h50', '01h00', '07h32', '13h10', '19h35', '13h35',\n",
       "       '01h32', '16h23', '15h00j', '19h10', '16h25', '1500', '19h55',\n",
       "       '01h30', '05h30', '08h58', '01h50'], dtype=object)"
      ]
     },
     "execution_count": 95,
     "metadata": {},
     "output_type": "execute_result"
    }
   ],
   "source": [
    "sharks2['Time'] = np.select([sharks2['Time'].str.contains(\"or\")==True], ['Uncertain'],sharks2['Time'])\n",
    "sharks2['Time'] = np.select([sharks2['Time'].str.contains(\"to\")==True], ['Uncertain'],sharks2['Time'])\n",
    "sharks2['Time'] = np.select([sharks2['Time'].str.contains(\"<\")==True], ['Uncertain'],sharks2['Time'])\n",
    "sharks2['Time']=sharks2['Time'].str.replace(':', 'h')\n",
    "sharks2['Time']=sharks2['Time'].str.replace('pm', '')\n",
    "sharks2['Time'].unique()"
   ]
  },
  {
   "cell_type": "code",
   "execution_count": 112,
   "metadata": {},
   "outputs": [
    {
     "data": {
      "text/plain": [
       "Type              19425\n",
       "Country           19471\n",
       "Area              19876\n",
       "Location          19961\n",
       "Activity          19965\n",
       "Name              19631\n",
       "Sex               19986\n",
       "original order    19414\n",
       "dtype: int64"
      ]
     },
     "execution_count": 112,
     "metadata": {},
     "output_type": "execute_result"
    }
   ],
   "source": [
    "sharks_type=sharks2.copy() #Checkpoint \n",
    "col_nulos=sharks_type.isna().sum()  \n",
    "\n",
    "col_nulos[col_nulos>0]"
   ]
  },
  {
   "cell_type": "code",
   "execution_count": 113,
   "metadata": {},
   "outputs": [
    {
     "data": {
      "text/plain": [
       "array(['Boating', 'Unprovoked', 'Invalid', 'Provoked', 'Questionable',\n",
       "       'Sea Disaster', 'Unknown type', 'Boat', 'Boatomg'], dtype=object)"
      ]
     },
     "execution_count": 113,
     "metadata": {},
     "output_type": "execute_result"
    }
   ],
   "source": [
    "sharks_type['Type']=sharks_type['Type'].fillna('Unknown type')\n",
    "sharks_type['Type'].unique()"
   ]
  },
  {
   "cell_type": "code",
   "execution_count": 114,
   "metadata": {},
   "outputs": [
    {
     "data": {
      "text/plain": [
       "Unknown type    19425\n",
       "Unprovoked       4595\n",
       "Provoked          574\n",
       "Invalid           547\n",
       "Boating           341\n",
       "Sea Disaster      239\n",
       "Questionable        2\n",
       "Name: Type, dtype: int64"
      ]
     },
     "execution_count": 114,
     "metadata": {},
     "output_type": "execute_result"
    }
   ],
   "source": [
    "sharks_type['Type'] = np.select([sharks_type['Type'].str.contains(\"[Bb]oat\")==True], ['Boating'],sharks_type['Type'])\n",
    "sharks_type['Type'].value_counts()"
   ]
  },
  {
   "cell_type": "code",
   "execution_count": 115,
   "metadata": {},
   "outputs": [],
   "source": [
    "sharks_type['Activity']=sharks_type['Activity'].fillna('Unknown activity')"
   ]
  },
  {
   "cell_type": "code",
   "execution_count": 116,
   "metadata": {},
   "outputs": [],
   "source": [
    "sharks_type['Activity'] = np.select([sharks_type['Activity'].str.contains(\"[Ss]hark\")==True], ['Shark disturbance'],sharks_type['Activity'])"
   ]
  },
  {
   "cell_type": "code",
   "execution_count": 117,
   "metadata": {},
   "outputs": [],
   "source": [
    "sharks_type['original order']=sharks_type['original order'].fillna('Unknown order')"
   ]
  },
  {
   "cell_type": "code",
   "execution_count": 135,
   "metadata": {},
   "outputs": [],
   "source": [
    "#Otro checkpoint donde sólo me faltan country,area,location,name y sex\n",
    "sharks3=sharks_type.copy()\n",
    "sharks3['Name']=sharks3['Name'].fillna('Unknown person')"
   ]
  },
  {
   "cell_type": "code",
   "execution_count": 136,
   "metadata": {},
   "outputs": [],
   "source": [
    "conditions = [(sharks3['Name'] == 'Unknown person')]\n",
    "\n",
    "choices = ['Not available']\n",
    "\n",
    "sharks3['Sex'] = np.select(conditions, choices,sharks3['Sex'])"
   ]
  },
  {
   "cell_type": "code",
   "execution_count": 137,
   "metadata": {},
   "outputs": [],
   "source": [
    "conditions = [(sharks3['Name'] == 'female')]\n",
    "\n",
    "choices = ['F']\n",
    "\n",
    "sharks3['Sex'] = np.select(conditions, choices,sharks3['Sex'])"
   ]
  },
  {
   "cell_type": "code",
   "execution_count": 138,
   "metadata": {},
   "outputs": [],
   "source": [
    "conditions = [(sharks3['Name'] == 'male')]\n",
    "\n",
    "choices = ['M']\n",
    "\n",
    "sharks3['Sex'] = np.select(conditions, choices,sharks3['Sex'])"
   ]
  },
  {
   "cell_type": "code",
   "execution_count": 139,
   "metadata": {},
   "outputs": [
    {
     "data": {
      "text/plain": [
       "array(['F', 'M', 'Not available', nan, 'M ', 'lli', 'N'], dtype=object)"
      ]
     },
     "execution_count": 139,
     "metadata": {},
     "output_type": "execute_result"
    }
   ],
   "source": [
    "sharks3['Sex'].unique()"
   ]
  },
  {
   "cell_type": "code",
   "execution_count": 140,
   "metadata": {},
   "outputs": [
    {
     "data": {
      "text/plain": [
       "array(['F', 'M', 'Not available', 'lli', 'N'], dtype=object)"
      ]
     },
     "execution_count": 140,
     "metadata": {},
     "output_type": "execute_result"
    }
   ],
   "source": [
    "sharks3['Sex']=sharks3['Sex'].fillna('Not available')\n",
    "sharks3['Sex']=sharks3['Sex'].str.replace('M ', 'M')\n",
    "sharks3['Sex'].unique()"
   ]
  },
  {
   "cell_type": "code",
   "execution_count": 141,
   "metadata": {},
   "outputs": [
    {
     "data": {
      "text/plain": [
       "array('Brian Kang', dtype='<U222')"
      ]
     },
     "execution_count": 141,
     "metadata": {},
     "output_type": "execute_result"
    }
   ],
   "source": [
    "np.select(sharks3['Sex'] == 'lli', sharks3['Name'])"
   ]
  },
  {
   "cell_type": "code",
   "execution_count": 142,
   "metadata": {},
   "outputs": [
    {
     "data": {
      "text/plain": [
       "array(['F', 'M', 'Not available', 'N'], dtype=object)"
      ]
     },
     "execution_count": 142,
     "metadata": {},
     "output_type": "execute_result"
    }
   ],
   "source": [
    "sharks3['Sex']=sharks3['Sex'].str.replace('lli', 'M')\n",
    "sharks3['Sex'].unique()"
   ]
  },
  {
   "cell_type": "code",
   "execution_count": 143,
   "metadata": {},
   "outputs": [
    {
     "data": {
      "text/plain": [
       "array(\"18' boat, occupants William & Leslie Newton\", dtype='<U222')"
      ]
     },
     "execution_count": 143,
     "metadata": {},
     "output_type": "execute_result"
    }
   ],
   "source": [
    "np.select(sharks3['Sex'] == 'N', sharks3['Name'])"
   ]
  },
  {
   "cell_type": "code",
   "execution_count": 133,
   "metadata": {},
   "outputs": [],
   "source": [
    "sharks3['Sex']=sharks3['Sex'].str.replace('', 'Not available')"
   ]
  },
  {
   "cell_type": "code",
   "execution_count": 144,
   "metadata": {},
   "outputs": [
    {
     "data": {
      "text/plain": [
       "array(['F', 'M', 'Not available'], dtype=object)"
      ]
     },
     "execution_count": 144,
     "metadata": {},
     "output_type": "execute_result"
    }
   ],
   "source": [
    "sharks3['Sex'] = np.select([sharks3['Sex']=='N'], ['Not available'],sharks3['Sex'])\n",
    "sharks3['Sex'].unique()"
   ]
  },
  {
   "cell_type": "code",
   "execution_count": 145,
   "metadata": {},
   "outputs": [
    {
     "data": {
      "text/plain": [
       "Unknown person              19631\n",
       "John Doe                      550\n",
       "Jane Doe                       97\n",
       "boy                            23\n",
       "2 males                        16\n",
       "                            ...  \n",
       "Johnny Bower                    1\n",
       "Heath Milne                     1\n",
       "Melisa Brunning                 1\n",
       "Gian Paolo Porta Casucci        1\n",
       "Don White                       1\n",
       "Name: Name, Length: 5231, dtype: int64"
      ]
     },
     "execution_count": 145,
     "metadata": {},
     "output_type": "execute_result"
    }
   ],
   "source": [
    "sharks3['Name'] = np.select([sharks3['Name']=='female'], ['Jane Doe'],sharks3['Name'])\n",
    "sharks3['Name'] = np.select([sharks3['Name']=='male'], ['John Doe'],sharks3['Name'])\n",
    "sharks3['Name'].value_counts()"
   ]
  },
  {
   "cell_type": "code",
   "execution_count": 146,
   "metadata": {},
   "outputs": [
    {
     "data": {
      "text/plain": [
       "Unknown person              19631\n",
       "John Doe                      611\n",
       "Jane Doe                       97\n",
       "2 males                        16\n",
       "boat                           14\n",
       "                            ...  \n",
       "Heath Milne                     1\n",
       "Melisa Brunning                 1\n",
       "Gian Paolo Porta Casucci        1\n",
       "Lydia Strunk                    1\n",
       "Don White                       1\n",
       "Name: Name, Length: 5197, dtype: int64"
      ]
     },
     "execution_count": 146,
     "metadata": {},
     "output_type": "execute_result"
    }
   ],
   "source": [
    "sharks3['Name'] = np.select([sharks3['Name'].str.contains('[bB]oy')==True], ['John Doe'],sharks3['Name'])\n",
    "sharks3['Name'].value_counts()"
   ]
  },
  {
   "cell_type": "code",
   "execution_count": 150,
   "metadata": {},
   "outputs": [
    {
     "data": {
      "text/plain": [
       "Unknown person                           19943\n",
       "John Doe                                   643\n",
       "Jane Doe                                    97\n",
       "a pearl diver                                6\n",
       "fisherman                                    6\n",
       "                                         ...  \n",
       "Gian Paolo Porta Casucci                     1\n",
       "Lydia Strunk                                 1\n",
       "Sadao Nakatus                                1\n",
       "Colleen Chamberlin & Scott Chamberlin        1\n",
       "Don White                                    1\n",
       "Name: Name, Length: 4956, dtype: int64"
      ]
     },
     "execution_count": 150,
     "metadata": {},
     "output_type": "execute_result"
    }
   ],
   "source": [
    "sharks3['Name'] = np.select([sharks3['Name'].str.len()<8], ['Unknown person'],sharks3['Name'])\n",
    "sharks3['Name'] = np.select([sharks3['Name'].str.contains('sailor')==True], ['John Doe'],sharks3['Name'])\n",
    "sharks3['Name'] = np.select([sharks3['Name'].str.contains('Anonymous')==True], ['Unknown person'],sharks3['Name'])\n",
    "sharks3['Name'].value_counts()"
   ]
  },
  {
   "cell_type": "code",
   "execution_count": 151,
   "metadata": {},
   "outputs": [
    {
     "data": {
      "text/plain": [
       "Unknown person            20011\n",
       "John Doe                    643\n",
       "Jane Doe                     97\n",
       "a pearl diver                 6\n",
       "a soldier                     5\n",
       "                          ...  \n",
       "Patrick Turowski              1\n",
       "12' boat of Alf Laundy        1\n",
       "Johnny Bower                  1\n",
       "Heath Milne                   1\n",
       "Don White                     1\n",
       "Name: Name, Length: 4900, dtype: int64"
      ]
     },
     "execution_count": 151,
     "metadata": {},
     "output_type": "execute_result"
    }
   ],
   "source": [
    "sharks3['Name']=np.select([sharks3['Name'].str.split().str.len()<2], ['Unknown person'],sharks3['Name'])\n",
    "sharks3['Name'].value_counts()"
   ]
  },
  {
   "cell_type": "code",
   "execution_count": 156,
   "metadata": {},
   "outputs": [
    {
     "data": {
      "text/plain": [
       "Unknown person      20352\n",
       "John Doe              643\n",
       "Jane Doe              117\n",
       "black male              4\n",
       "Russian male            3\n",
       "                    ...  \n",
       "Mark McCracken          1\n",
       "Samuel Matthews         1\n",
       "Cosimo Piccinni         1\n",
       "Justin Schlaefli        1\n",
       "Don White               1\n",
       "Name: Name, Length: 4563, dtype: int64"
      ]
     },
     "execution_count": 156,
     "metadata": {},
     "output_type": "execute_result"
    }
   ],
   "source": [
    "sharks3['Name'] = np.select([sharks3['Name'].str.contains('^a.*')==True], ['Unknown person'],sharks3['Name'])\n",
    "sharks3['Name'] = np.select([sharks3['Name'].str.contains('[0-9]')==True], ['Unknown person'],sharks3['Name'])\n",
    "sharks3['Name'] = np.select([sharks3['Name'].str.contains('[Ff]emale')==True], ['Jane Doe'],sharks3['Name'])\n",
    "sharks3['Name'].value_counts()"
   ]
  },
  {
   "cell_type": "code",
   "execution_count": 157,
   "metadata": {},
   "outputs": [
    {
     "data": {
      "text/plain": [
       "Unknown person                           20352\n",
       "John Doe                                   728\n",
       "Jane Doe                                   117\n",
       "Andre Hartman                                3\n",
       "Japanese diver                               3\n",
       "                                         ...  \n",
       "Colleen Chamberlin & Scott Chamberlin        1\n",
       "Sadao Nakatus                                1\n",
       "Lydia Strunk                                 1\n",
       "Gian Paolo Porta Casucci                     1\n",
       "Don White                                    1\n",
       "Name: Name, Length: 4488, dtype: int64"
      ]
     },
     "execution_count": 157,
     "metadata": {},
     "output_type": "execute_result"
    }
   ],
   "source": [
    "sharks3['Name'] = np.select([sharks3['Name'].str.contains('[Mm]ale')==True], ['John Doe'],sharks3['Name'])\n"
   ]
  },
  {
   "cell_type": "code",
   "execution_count": 159,
   "metadata": {},
   "outputs": [
    {
     "data": {
      "text/plain": [
       "Country     19471\n",
       "Area        19876\n",
       "Location    19961\n",
       "dtype: int64"
      ]
     },
     "execution_count": 159,
     "metadata": {},
     "output_type": "execute_result"
    }
   ],
   "source": [
    "col_nulos=sharks3.isna().sum()  \n",
    "\n",
    "col_nulos[col_nulos>0]"
   ]
  },
  {
   "cell_type": "code",
   "execution_count": 160,
   "metadata": {},
   "outputs": [],
   "source": [
    "sharks3.to_csv('Sharks3.csv')"
   ]
  },
  {
   "cell_type": "code",
   "execution_count": null,
   "metadata": {},
   "outputs": [],
   "source": []
  }
 ],
 "metadata": {
  "kernelspec": {
   "display_name": "Python 3",
   "language": "python",
   "name": "python3"
  },
  "language_info": {
   "codemirror_mode": {
    "name": "ipython",
    "version": 3
   },
   "file_extension": ".py",
   "mimetype": "text/x-python",
   "name": "python",
   "nbconvert_exporter": "python",
   "pygments_lexer": "ipython3",
   "version": "3.7.6"
  }
 },
 "nbformat": 4,
 "nbformat_minor": 4
}
