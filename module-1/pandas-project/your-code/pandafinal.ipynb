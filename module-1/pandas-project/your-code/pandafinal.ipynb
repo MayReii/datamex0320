{
 "cells": [
  {
   "cell_type": "code",
   "execution_count": 1,
   "metadata": {},
   "outputs": [],
   "source": [
    "import numpy as np\n",
    "import pandas as pd"
   ]
  },
  {
   "cell_type": "code",
   "execution_count": 2,
   "metadata": {},
   "outputs": [
    {
     "data": {
      "text/plain": [
       "Index(['Unnamed: 0', 'Unnamed: 0.1', 'Case Number', 'Date', 'Year', 'Type',\n",
       "       'Country', 'Area', 'Location', 'Activity', 'Name', 'Sex', 'Age',\n",
       "       'Injury', 'Fatal (Y/N)', 'Time', 'Species', 'Investigator or Source',\n",
       "       'pdf', 'href formula', 'href', 'Case Number.1', 'Case Number.2',\n",
       "       'original order', 'Extra1', 'Extra2'],\n",
       "      dtype='object')"
      ]
     },
     "execution_count": 2,
     "metadata": {},
     "output_type": "execute_result"
    }
   ],
   "source": [
    "df=pd.read_csv('Sharks3.csv')\n",
    "sharks_f=df.copy()\n",
    "sharks_f.columns"
   ]
  },
  {
   "cell_type": "code",
   "execution_count": 5,
   "metadata": {},
   "outputs": [],
   "source": [
    "sharks_f=sharks_f.drop(['Unnamed: 0', 'Unnamed: 0.1'], axis=1)"
   ]
  },
  {
   "cell_type": "code",
   "execution_count": 6,
   "metadata": {},
   "outputs": [
    {
     "data": {
      "text/plain": [
       "Index(['Case Number', 'Date', 'Year', 'Type', 'Country', 'Area', 'Location',\n",
       "       'Activity', 'Name', 'Sex', 'Age', 'Injury', 'Fatal (Y/N)', 'Time',\n",
       "       'Species', 'Investigator or Source', 'pdf', 'href formula', 'href',\n",
       "       'Case Number.1', 'Case Number.2', 'original order', 'Extra1', 'Extra2'],\n",
       "      dtype='object')"
      ]
     },
     "execution_count": 6,
     "metadata": {},
     "output_type": "execute_result"
    }
   ],
   "source": [
    "sharks_f.columns"
   ]
  },
  {
   "cell_type": "code",
   "execution_count": 8,
   "metadata": {},
   "outputs": [
    {
     "data": {
      "text/plain": [
       "Country     19471\n",
       "Area        19876\n",
       "Location    19961\n",
       "dtype: int64"
      ]
     },
     "execution_count": 8,
     "metadata": {},
     "output_type": "execute_result"
    }
   ],
   "source": [
    "col_nulos=sharks_f.isna().sum()  # columnas con nulos\n",
    "\n",
    "col_nulos[col_nulos>0]"
   ]
  },
  {
   "cell_type": "code",
   "execution_count": 11,
   "metadata": {},
   "outputs": [
    {
     "data": {
      "text/plain": [
       "array(['USA', 'AUSTRALIA', 'MEXICO', 'BRAZIL', 'ENGLAND', 'SOUTH AFRICA',\n",
       "       'THAILAND', 'COSTA RICA', 'MALDIVES', 'BAHAMAS', 'NEW CALEDONIA',\n",
       "       'ECUADOR', 'MALAYSIA', 'LIBYA', nan, 'CUBA', 'MAURITIUS',\n",
       "       'NEW ZEALAND', 'SPAIN', 'SAMOA', 'SOLOMON ISLANDS', 'JAPAN',\n",
       "       'EGYPT', 'ST HELENA, BRITISH OVERSEAS TERRITORY', 'COMOROS',\n",
       "       'REUNION', 'FRENCH POLYNESIA', 'UNITED KINGDOM',\n",
       "       'UNITED ARAB EMIRATES', 'PHILIPPINES', 'INDONESIA', 'CHINA',\n",
       "       'COLUMBIA', 'CAPE VERDE', 'FIJI', 'DOMINICAN REPUBLIC',\n",
       "       'CAYMAN ISLANDS', 'ARUBA', 'MOZAMBIQUE', 'PUERTO RICO', 'ITALY',\n",
       "       'ATLANTIC OCEAN', 'GREECE', 'ST. MARTIN', 'FRANCE',\n",
       "       'PAPUA NEW GUINEA', 'TRINIDAD & TOBAGO', 'KIRIBATI', 'ISRAEL',\n",
       "       'DIEGO GARCIA', 'TAIWAN', 'JAMAICA', 'PALESTINIAN TERRITORIES',\n",
       "       'GUAM', 'SEYCHELLES', 'BELIZE', 'NIGERIA', 'TONGA', 'SCOTLAND',\n",
       "       'CANADA', 'CROATIA', 'SAUDI ARABIA', 'CHILE', 'ANTIGUA', 'KENYA',\n",
       "       'RUSSIA', 'TURKS & CAICOS', 'UNITED ARAB EMIRATES (UAE)', 'AZORES',\n",
       "       'SOUTH KOREA', 'MALTA', 'VIETNAM', 'MADAGASCAR', 'PANAMA',\n",
       "       'SOMALIA', 'NEVIS', 'BRITISH VIRGIN ISLANDS', 'NORWAY', 'SENEGAL',\n",
       "       'YEMEN', 'GULF OF ADEN', 'SIERRA LEONE', 'ST. MAARTIN',\n",
       "       'GRAND CAYMAN', 'LIBERIA', 'VANUATU', 'MEXICO ', 'HONDURAS',\n",
       "       'VENEZUELA', 'SRI LANKA', ' TONGA', 'URUGUAY', 'INDIA',\n",
       "       'MICRONESIA', 'CARIBBEAN SEA', 'OKINAWA', 'TANZANIA',\n",
       "       'MARSHALL ISLANDS', 'EGYPT / ISRAEL', 'NORTHERN ARABIAN SEA',\n",
       "       'HONG KONG', 'EL SALVADOR', 'ANGOLA', 'BERMUDA', 'MONTENEGRO',\n",
       "       'IRAN', 'TUNISIA', 'NAMIBIA', 'NORTH ATLANTIC OCEAN', 'PORTUGAL',\n",
       "       'SOUTH CHINA SEA', 'BANGLADESH', 'PALAU', 'WESTERN SAMOA',\n",
       "       'PACIFIC OCEAN ', 'BRITISH ISLES', 'GRENADA', 'IRAQ', 'TURKEY',\n",
       "       'SINGAPORE', 'NEW BRITAIN', 'SUDAN', 'JOHNSTON ISLAND',\n",
       "       'SOUTH PACIFIC OCEAN', 'NEW GUINEA', 'RED SEA',\n",
       "       'NORTH PACIFIC OCEAN', 'FEDERATED STATES OF MICRONESIA',\n",
       "       'MID ATLANTIC OCEAN', 'ADMIRALTY ISLANDS', 'BRITISH WEST INDIES',\n",
       "       'SOUTH ATLANTIC OCEAN', 'PERSIAN GULF', 'RED SEA / INDIAN OCEAN',\n",
       "       'PACIFIC OCEAN', 'NORTH SEA', 'NICARAGUA ', 'MALDIVE ISLANDS',\n",
       "       'AMERICAN SAMOA', 'ANDAMAN / NICOBAR ISLANDAS', 'GABON', 'MAYOTTE',\n",
       "       'NORTH ATLANTIC OCEAN ', 'THE BALKANS', 'SUDAN?', 'ARGENTINA',\n",
       "       'MARTINIQUE', 'INDIAN OCEAN', 'GUATEMALA', 'NETHERLANDS ANTILLES',\n",
       "       'NORTHERN MARIANA ISLANDS', 'IRAN / IRAQ', 'JAVA', ' PHILIPPINES',\n",
       "       'NICARAGUA', 'CENTRAL PACIFIC', 'SOLOMON ISLANDS / VANUATU',\n",
       "       'SOUTHWEST PACIFIC OCEAN', 'BAY OF BENGAL', 'MID-PACIFC OCEAN',\n",
       "       'SLOVENIA', 'CURACAO', 'ICELAND', 'ITALY / CROATIA', 'BARBADOS',\n",
       "       'MONACO', 'GUYANA', 'HAITI', 'SAN DOMINGO', 'IRELAND', 'KUWAIT',\n",
       "       'YEMEN ', 'REUNION ISLAND', 'FALKLAND ISLANDS', 'CRETE', 'CYPRUS',\n",
       "       'EGYPT ', 'WEST INDIES', 'BURMA', 'LEBANON', 'PARAGUAY',\n",
       "       'BRITISH NEW GUINEA', 'CEYLON', 'OCEAN', 'GEORGIA', 'SYRIA',\n",
       "       'TUVALU', 'INDIAN OCEAN?', 'GUINEA', 'ANDAMAN ISLANDS',\n",
       "       'EQUATORIAL GUINEA / CAMEROON', 'COOK ISLANDS', 'TOBAGO', 'PERU',\n",
       "       'AFRICA', 'ALGERIA', 'COAST OF AFRICA', 'TASMAN SEA', 'GHANA',\n",
       "       'GREENLAND', 'MEDITERRANEAN SEA', 'SWEDEN', 'ROATAN',\n",
       "       'BETWEEN PORTUGAL & INDIA', 'DJIBOUTI', 'BAHREIN', 'KOREA',\n",
       "       'RED SEA?', 'ASIA?', 'CEYLON (SRI LANKA)'], dtype=object)"
      ]
     },
     "execution_count": 11,
     "metadata": {},
     "output_type": "execute_result"
    }
   ],
   "source": [
    "sharks_f['Country']=sharks_f['Country'].str.upper()\n",
    "sharks_f['Country'].unique()"
   ]
  },
  {
   "cell_type": "code",
   "execution_count": 14,
   "metadata": {},
   "outputs": [],
   "source": [
    "import re\n",
    "sharks_f['Country'] = np.select([sharks_f['Country'].str.contains(\"\\\\?\",regex=True)==True],['Doubtful location'],sharks_f['Country'])"
   ]
  },
  {
   "cell_type": "code",
   "execution_count": 16,
   "metadata": {},
   "outputs": [
    {
     "data": {
      "text/plain": [
       "array(['USA', 'AUSTRALIA', 'MEXICO', 'BRAZIL', 'ENGLAND', 'SOUTH AFRICA',\n",
       "       'THAILAND', 'COSTA RICA', 'MALDIVES', 'BAHAMAS', 'NEW CALEDONIA',\n",
       "       'ECUADOR', 'MALAYSIA', 'LIBYA', nan, 'CUBA', 'MAURITIUS',\n",
       "       'NEW ZEALAND', 'SPAIN', 'SAMOA', 'SOLOMON ISLANDS', 'JAPAN',\n",
       "       'EGYPT', 'ST HELENA, BRITISH OVERSEAS TERRITORY', 'COMOROS',\n",
       "       'REUNION', 'FRENCH POLYNESIA', 'UNITED KINGDOM',\n",
       "       'UNITED ARAB EMIRATES', 'PHILIPPINES', 'INDONESIA', 'CHINA',\n",
       "       'COLUMBIA', 'CAPE VERDE', 'FIJI', 'DOMINICAN REPUBLIC',\n",
       "       'CAYMAN ISLANDS', 'ARUBA', 'MOZAMBIQUE', 'PUERTO RICO', 'ITALY',\n",
       "       'ATLANTIC OCEAN', 'GREECE', 'ST. MARTIN', 'FRANCE',\n",
       "       'PAPUA NEW GUINEA', 'TRINIDAD & TOBAGO', 'KIRIBATI', 'ISRAEL',\n",
       "       'DIEGO GARCIA', 'TAIWAN', 'JAMAICA', 'PALESTINIAN TERRITORIES',\n",
       "       'GUAM', 'SEYCHELLES', 'BELIZE', 'NIGERIA', 'TONGA', 'SCOTLAND',\n",
       "       'CANADA', 'CROATIA', 'CHILE', 'ANTIGUA', 'KENYA', 'RUSSIA',\n",
       "       'TURKS & CAICOS', 'AZORES', 'SOUTH KOREA', 'MALTA', 'VIETNAM',\n",
       "       'MADAGASCAR', 'PANAMA', 'SOMALIA', 'NEVIS',\n",
       "       'BRITISH VIRGIN ISLANDS', 'NORWAY', 'SENEGAL', 'YEMEN',\n",
       "       'GULF OF ADEN', 'SIERRA LEONE', 'ST. MAARTIN', 'GRAND CAYMAN',\n",
       "       'LIBERIA', 'VANUATU', 'MEXICO ', 'HONDURAS', 'VENEZUELA',\n",
       "       'SRI LANKA', ' TONGA', 'URUGUAY', 'INDIA', 'MICRONESIA',\n",
       "       'CARIBBEAN SEA', 'OKINAWA', 'TANZANIA', 'MARSHALL ISLANDS',\n",
       "       'EGYPT / ISRAEL', 'HONG KONG', 'EL SALVADOR', 'ANGOLA', 'BERMUDA',\n",
       "       'MONTENEGRO', 'IRAN', 'TUNISIA', 'NAMIBIA', 'NORTH ATLANTIC OCEAN',\n",
       "       'PORTUGAL', 'SOUTH CHINA SEA', 'BANGLADESH', 'PALAU',\n",
       "       'WESTERN SAMOA', 'PACIFIC OCEAN ', 'BRITISH ISLES', 'GRENADA',\n",
       "       'IRAQ', 'TURKEY', 'SINGAPORE', 'NEW BRITAIN', 'SUDAN',\n",
       "       'JOHNSTON ISLAND', 'SOUTH PACIFIC OCEAN', 'NEW GUINEA', 'RED SEA',\n",
       "       'NORTH PACIFIC OCEAN', 'FEDERATED STATES OF MICRONESIA',\n",
       "       'MID ATLANTIC OCEAN', 'ADMIRALTY ISLANDS', 'BRITISH WEST INDIES',\n",
       "       'SOUTH ATLANTIC OCEAN', 'PERSIAN GULF', 'RED SEA / INDIAN OCEAN',\n",
       "       'PACIFIC OCEAN', 'NORTH SEA', 'NICARAGUA ', 'MALDIVE ISLANDS',\n",
       "       'AMERICAN SAMOA', 'ANDAMAN / NICOBAR ISLANDAS', 'GABON', 'MAYOTTE',\n",
       "       'NORTH ATLANTIC OCEAN ', 'THE BALKANS', 'Doubtful location',\n",
       "       'ARGENTINA', 'MARTINIQUE', 'INDIAN OCEAN', 'GUATEMALA',\n",
       "       'NETHERLANDS ANTILLES', 'NORTHERN MARIANA ISLANDS', 'IRAN / IRAQ',\n",
       "       'JAVA', ' PHILIPPINES', 'NICARAGUA', 'CENTRAL PACIFIC',\n",
       "       'SOLOMON ISLANDS / VANUATU', 'SOUTHWEST PACIFIC OCEAN',\n",
       "       'BAY OF BENGAL', 'MID-PACIFC OCEAN', 'SLOVENIA', 'CURACAO',\n",
       "       'ICELAND', 'ITALY / CROATIA', 'BARBADOS', 'MONACO', 'GUYANA',\n",
       "       'HAITI', 'SAN DOMINGO', 'IRELAND', 'KUWAIT', 'YEMEN ',\n",
       "       'REUNION ISLAND', 'FALKLAND ISLANDS', 'CRETE', 'CYPRUS', 'EGYPT ',\n",
       "       'WEST INDIES', 'BURMA', 'LEBANON', 'PARAGUAY',\n",
       "       'BRITISH NEW GUINEA', 'CEYLON', 'OCEAN', 'GEORGIA', 'SYRIA',\n",
       "       'TUVALU', 'GUINEA', 'ANDAMAN ISLANDS',\n",
       "       'EQUATORIAL GUINEA / CAMEROON', 'COOK ISLANDS', 'TOBAGO', 'PERU',\n",
       "       'AFRICA', 'ALGERIA', 'COAST OF AFRICA', 'TASMAN SEA', 'GHANA',\n",
       "       'GREENLAND', 'MEDITERRANEAN SEA', 'SWEDEN', 'ROATAN',\n",
       "       'BETWEEN PORTUGAL & INDIA', 'DJIBOUTI', 'BAHREIN', 'KOREA',\n",
       "       'CEYLON (SRI LANKA)'], dtype=object)"
      ]
     },
     "execution_count": 16,
     "metadata": {},
     "output_type": "execute_result"
    }
   ],
   "source": [
    "sharks_f['Country'] = np.select([sharks_f['Country'].str.contains(\"ARAB\",regex=True)==True],['UNITED ARAB EMIRATES'],sharks_f['Country'])\n",
    "sharks_f['Country'].unique()"
   ]
  },
  {
   "cell_type": "code",
   "execution_count": 19,
   "metadata": {},
   "outputs": [],
   "source": [
    "sharks_f['Country'] = np.select([sharks_f['Country'].str.contains(\"SEA\",regex=True)==True],['UNSPECIFIED COUNTRY'],sharks_f['Country'])\n",
    "sharks_f['Country'] = np.select([sharks_f['Country'].str.contains(\"OCEAN\",regex=True)==True],['UNSPECIFIED COUNTRY'],sharks_f['Country'])\n",
    "sharks_f['Country']=sharks_f['Country'].str.upper()\n",
    "sharks_f['Country']=sharks_f['Country'].fillna('NO COUNTRY AVAILABLE')"
   ]
  },
  {
   "cell_type": "code",
   "execution_count": 22,
   "metadata": {},
   "outputs": [],
   "source": [
    "#Checkpoint casi final\n",
    "sharks_casi=sharks_f.copy()"
   ]
  },
  {
   "cell_type": "code",
   "execution_count": 34,
   "metadata": {},
   "outputs": [
    {
     "name": "stdout",
     "output_type": "stream",
     "text": [
      "[1517, 3719, 3930, 3957, 4187, 4252, 4373, 4432, 4534, 4540, 4665, 4702, 4714, 4735, 4737, 4750, 4793, 5683, 5748, 5842, 5901, 6149, 6269]\n"
     ]
    }
   ],
   "source": [
    "lst = sharks_casi.query('Country == \"UNSPECIFIED COUNTRY\" & Name == \"Unknown person\" & Species==\"Unknown shark\"' ).index.tolist() \n",
    "print(lst)"
   ]
  },
  {
   "cell_type": "code",
   "execution_count": 35,
   "metadata": {},
   "outputs": [],
   "source": [
    "sharks_casi = sharks_casi.drop(lst)"
   ]
  },
  {
   "cell_type": "code",
   "execution_count": 36,
   "metadata": {},
   "outputs": [
    {
     "data": {
      "text/plain": [
       "(25700, 24)"
      ]
     },
     "execution_count": 36,
     "metadata": {},
     "output_type": "execute_result"
    }
   ],
   "source": [
    "sharks_casi.shape"
   ]
  },
  {
   "cell_type": "code",
   "execution_count": 44,
   "metadata": {},
   "outputs": [
    {
     "data": {
      "text/plain": [
       "array(['2018', '2017', 'Unknown', '2016', '2015', '2014', '2013', '2012',\n",
       "       '2011', '2010', '2009', '2008', '2007', '2006', '2005', '2004',\n",
       "       '2003', '2002', '2001', '2000', '1999', '1998', '1997', '1996',\n",
       "       '1995', '1984', '1994', '1993', '1992', '1991', '1990', '1989',\n",
       "       '1969', '1988', '1987', '1986', '1985', '1983', '1982', '1981',\n",
       "       '1980', '1979', '1978', '1977', '1976', '1975', '1974', '1973',\n",
       "       '1972', '1971', '1970', '1968', '1967', '1966', '1965', '1964',\n",
       "       '1963', '1962', '1961', '1960', '1959', '1958', '1957', '1956',\n",
       "       '1955', '1954', '1953', '1952', '1951', '1950', '1949', '1948',\n",
       "       '1848', '1947', '1946', '1945', '1944', '1943', '1942', '1941',\n",
       "       '1940', '1939', '1938', '1937', '1936', '1935', '1934', '1933',\n",
       "       '1932', '1931', '1930', '1929', '1928', '1927', '1926', '1925',\n",
       "       '1924', '1923', '1922', '1921', '1920', '1919', '1918', '1917',\n",
       "       '1916', '1915', '1914', '1913', '1912', '1911', '1910', '1909',\n",
       "       '1908', '1907', '1906', '1905', '1904', '1903', '1902', '1901',\n",
       "       '1900', '1899', '1898', '1897', '1896', '1895', '1894', '1893',\n",
       "       '1892', '1891', '1890', '1889', '1888', '1887', '1886', '1885',\n",
       "       '1884', '1883', '1882', '1881', '1880', '1879', '1878', '1877',\n",
       "       '1876', '1875', '1874', '1873', '1872', '1871', '1870', '1869',\n",
       "       '1868', '1867', '1866', '1865', '1864', '1863', '1862', '1861',\n",
       "       '1860', '1859', '1858', '1857', '1856', '1855', '1853', '1852',\n",
       "       '1851', '1850', '1849', '1847', '1846', '1845', '1844', '1842',\n",
       "       '1841', '1840', '1839', '1837', '1836', '1835', '1834', '1832',\n",
       "       '1831', '1830', '1829', '1828', '1827', '1826', '1825', '1823',\n",
       "       '1822', '1819', '1818', '1817', '1816', '1815', '1812', '1811',\n",
       "       '1810', '1808', '1807', '1805', '1804', '1803', '1802', '1801',\n",
       "       '1800', '1797', '1792', '1791', '1788', '1787', '1786', '1785',\n",
       "       '1784', '1783', '1780', '1779', '1776', '1771', '1767', '1764',\n",
       "       '1753', '1751', '1749', '1755', '1748', '1742', '1738', '1733',\n",
       "       '1723', '1721', '1703', '1700', '1642', '1638', '1637', '1617',\n",
       "       '1595', '1580', '1555', '1554', '1543', '500', '77', '5'],\n",
       "      dtype=object)"
      ]
     },
     "execution_count": 44,
     "metadata": {},
     "output_type": "execute_result"
    }
   ],
   "source": [
    "sharks_casi = sharks_casi.reset_index(drop=True)\n",
    "sharks_casi['Year'] = sharks_casi['Year'].apply(lambda x: x.split('.')[0])\n",
    "sharks_casi['Year'] = np.select([sharks_casi['Year']=='0'],['Unknown'],sharks_casi['Year'])\n"
   ]
  },
  {
   "cell_type": "code",
   "execution_count": 46,
   "metadata": {},
   "outputs": [
    {
     "data": {
      "text/plain": [
       "Area        19829\n",
       "Location    19946\n",
       "dtype: int64"
      ]
     },
     "execution_count": 46,
     "metadata": {},
     "output_type": "execute_result"
    }
   ],
   "source": [
    "sharks_casi['Area']=np.select([sharks_casi['Country']=='UNSPECIFIED COUNTRY'],['Unknown area'],sharks_casi['Area'])\n",
    "sharks_casi['Area'].unique()\n",
    "col_nulos=sharks_casi.isna().sum()  # columnas con nulos\n",
    "\n",
    "col_nulos[col_nulos>0]"
   ]
  },
  {
   "cell_type": "code",
   "execution_count": 51,
   "metadata": {},
   "outputs": [
    {
     "data": {
      "text/plain": [
       "Area          373\n",
       "Location    19946\n",
       "dtype: int64"
      ]
     },
     "execution_count": 51,
     "metadata": {},
     "output_type": "execute_result"
    }
   ],
   "source": [
    "sharks_casi['Area']=np.select([sharks_casi['Country']=='NO COUNTRY AVAILABLE'],['Unknown area'],sharks_casi['Area'])\n"
   ]
  },
  {
   "cell_type": "code",
   "execution_count": 56,
   "metadata": {},
   "outputs": [],
   "source": [
    "conditions = [(sharks_casi['Area'].isnull()==True)]\n",
    "\n",
    "choices = [sharks_casi['Country'].str.capitalize()]\n",
    "\n",
    "sharks_casi['Area'] = np.select(conditions, choices,sharks_casi['Area'])"
   ]
  },
  {
   "cell_type": "code",
   "execution_count": 59,
   "metadata": {},
   "outputs": [],
   "source": [
    "sharks_casi['Location']=np.select([sharks_casi['Country']=='UNSPECIFIED COUNTRY'],['Unknown location'],sharks_casi['Location'])\n",
    "sharks_casi['Location']=np.select([sharks_casi['Country']=='NO COUNTRY AVAILABLE'],['Unknown location'],sharks_casi['Location'])"
   ]
  },
  {
   "cell_type": "code",
   "execution_count": 60,
   "metadata": {},
   "outputs": [
    {
     "data": {
      "text/plain": [
       "Location    446\n",
       "dtype: int64"
      ]
     },
     "execution_count": 60,
     "metadata": {},
     "output_type": "execute_result"
    }
   ],
   "source": [
    "col_nulos=sharks_casi.isna().sum()  # columnas con nulos\n",
    "\n",
    "col_nulos[col_nulos>0]"
   ]
  },
  {
   "cell_type": "code",
   "execution_count": 61,
   "metadata": {},
   "outputs": [],
   "source": [
    "conditions = [(sharks_casi['Location'].isnull()==True)]\n",
    "\n",
    "choices = [sharks_casi['Area'].str.capitalize()]\n",
    "\n",
    "sharks_casi['Location'] = np.select(conditions, choices,sharks_casi['Location'])"
   ]
  },
  {
   "cell_type": "code",
   "execution_count": 62,
   "metadata": {},
   "outputs": [],
   "source": [
    "conditions = [(sharks_casi['Location'].isnull()==True)]\n",
    "\n",
    "choices = [sharks_casi['Country'].str.capitalize()]\n",
    "\n",
    "sharks_casi['Location'] = np.select(conditions, choices,sharks_casi['Location'])"
   ]
  },
  {
   "cell_type": "code",
   "execution_count": 66,
   "metadata": {},
   "outputs": [],
   "source": [
    "sharks_casi.to_csv('SharksFinal.csv')"
   ]
  },
  {
   "cell_type": "code",
   "execution_count": null,
   "metadata": {},
   "outputs": [],
   "source": []
  }
 ],
 "metadata": {
  "kernelspec": {
   "display_name": "Python 3",
   "language": "python",
   "name": "python3"
  },
  "language_info": {
   "codemirror_mode": {
    "name": "ipython",
    "version": 3
   },
   "file_extension": ".py",
   "mimetype": "text/x-python",
   "name": "python",
   "nbconvert_exporter": "python",
   "pygments_lexer": "ipython3",
   "version": "3.7.6"
  }
 },
 "nbformat": 4,
 "nbformat_minor": 4
}
